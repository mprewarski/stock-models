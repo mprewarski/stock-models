{
 "cells": [
  {
   "cell_type": "code",
   "execution_count": null,
   "id": "12334511-f087-4b23-a45e-e8f2ca8c448e",
   "metadata": {},
   "outputs": [],
   "source": [
    "import pandas as pd\n",
    "import datetime  # For datetime objects\n",
    "import os.path  # To manage paths\n",
    "import sys  # To find out the script name (in argv[0])\n",
    "\n",
    "import backtrader as bt\n",
    "import backtrader.analyzers as btanalyzers\n",
    "import matplotlib\n",
    "from datetime import datetime\n",
    "import pandas as pd\n",
    "from pathlib import Path\n",
    "from datetime import datetime"
   ]
  },
  {
   "cell_type": "code",
   "execution_count": null,
   "id": "3f91c232-f377-4508-b630-b2c257da1aca",
   "metadata": {},
   "outputs": [],
   "source": [
    "stock_data = PyTickerSymbols()\n",
    "sp100_yahoo = stock_data.get_sp_100_nyc_yahoo_tickers()\n",
    "sp100_yahoo"
   ]
  },
  {
   "cell_type": "markdown",
   "id": "fc359fd6-c4d5-4c39-a3a4-15b5c3c09000",
   "metadata": {},
   "source": [
    "## Select the Stock Universe\n",
    "For the moment just use a few tickers for testing.\n",
    "Then scale up to 100 (nasdaq100 or sp100)\n",
    "Then eventually Russel 3000"
   ]
  },
  {
   "cell_type": "code",
   "execution_count": null,
   "id": "f6cb91a1-1070-4fb9-a461-f1341db10a2c",
   "metadata": {},
   "outputs": [],
   "source": [
    "stocks = ['AAPL', 'MMM', 'AMZN', 'CLX']\n",
    "data_path  = Path('/Volumes/extdisk/yfinance/prices')\n",
    "#data_path  = Path('/Volumes/extdisk/fin_sentiment_dataset/full_price_hist')\n",
    "from_date=datetime(2017, 1, 3),\n",
    "to_date=datetime(2022, 12, 31),"
   ]
  },
  {
   "cell_type": "code",
   "execution_count": null,
   "id": "4620e22a-498e-4b8d-9a26-32b7727371cf",
   "metadata": {},
   "outputs": [],
   "source": [
    "# need to instatiate cerebro before we add stocks\n",
    "cerebro = bt.Cerebro()\n",
    "\n",
    "# load the stock data\n",
    "stocks = ['AAPL', 'MSFT', 'AMZN', 'TSLA']\n",
    "for s in stocks: \n",
    "    #data = bt.feeds.YahooFinanceData(dataname = s, fromdate = datetime(2010, 1, 1), todate = datetime(2020, 1, 1))\n",
    "    fname = s + '.csv'\n",
    "    datapath = data_path/fname\n",
    "    data = bt.feeds.YahooFinanceCSVData(\n",
    "        dataname=datapath,\n",
    "        fromdate=datetime(2017, 1, 1),\n",
    "        todate=datetime(2022, 12, 31),\n",
    "        reverse=False)\n",
    "    cerebro.adddata(data, name = s)"
   ]
  },
  {
   "cell_type": "code",
   "execution_count": null,
   "id": "140898cb-044c-4543-8a23-505293a2c069",
   "metadata": {},
   "outputs": [],
   "source": [
    "class MomentumStrategy(bt.Strategy):\n",
    "    \n",
    "    params = (\n",
    "        ('fast_length', 5),\n",
    "        ('slow_length', 25)\n",
    "    )\n",
    "     \n",
    "    def __init__(self):\n",
    "        self.crossovers = []\n",
    "         \n",
    "        for d in self.datas: \n",
    "            ma_fast = bt.ind.SMA(d, period = self.params.fast_length)\n",
    "            ma_slow = bt.ind.SMA(d, period = self.params.slow_length)\n",
    " \n",
    "            self.crossovers.append(bt.ind.CrossOver(ma_fast, ma_slow))\n",
    " \n",
    "    def next(self):\n",
    "        for i, d in enumerate(self.datas):\n",
    "            if not self.getposition(d).size:\n",
    "                if self.crossovers[i] > 0: \n",
    "                    self.buy(data = d)\n",
    "            elif self.crossovers[i] < 0: \n",
    "                self.close(data = d)"
   ]
  },
  {
   "cell_type": "code",
   "execution_count": null,
   "id": "80c62500-9c0c-4006-be4c-81d4fab40671",
   "metadata": {},
   "outputs": [],
   "source": [
    "cerebro.addstrategy(MomentumStrategy)\n",
    "cerebro.broker.setcash(10000.0)\n",
    "cerebro.addsizer(bt.sizers.PercentSizer, percents = 25)"
   ]
  },
  {
   "cell_type": "code",
   "execution_count": null,
   "id": "67c723e9-903d-4f8b-83a7-d3e2ea34c3c7",
   "metadata": {},
   "outputs": [],
   "source": [
    "cerebro.addanalyzer(btanalyzers.SharpeRatio, _name = \"sharpe\")\n",
    "cerebro.addanalyzer(btanalyzers.Returns,     _name = \"returns\")\n",
    "cerebro.addanalyzer(btanalyzers.Transactions, _name = \"trans\")"
   ]
  },
  {
   "cell_type": "code",
   "execution_count": null,
   "id": "f8a55c96-6067-4af9-8bc4-64e31ee09861",
   "metadata": {
    "scrolled": true
   },
   "outputs": [],
   "source": [
    "back = cerebro.run()"
   ]
  },
  {
   "cell_type": "code",
   "execution_count": null,
   "id": "11083f9c-2b55-41d7-9617-ca9c980a569c",
   "metadata": {},
   "outputs": [],
   "source": [
    "cerebro.broker.getvalue()"
   ]
  },
  {
   "cell_type": "code",
   "execution_count": null,
   "id": "afa0d11e-0893-424b-be1f-04bc54acf5e6",
   "metadata": {},
   "outputs": [],
   "source": [
    "back[0].analyzers.returns.get_analysis()['rnorm100']"
   ]
  },
  {
   "cell_type": "code",
   "execution_count": null,
   "id": "c219b45f-54e3-4f83-8aaa-1a0701cede54",
   "metadata": {},
   "outputs": [],
   "source": [
    "back[0].analyzers.sharpe.get_analysis()"
   ]
  },
  {
   "cell_type": "code",
   "execution_count": null,
   "id": "dbcefc0c-e601-4789-8ac9-72e2daf4962b",
   "metadata": {},
   "outputs": [],
   "source": [
    "back[0].analyzers.returns.print()"
   ]
  },
  {
   "cell_type": "code",
   "execution_count": null,
   "id": "f489f714-8f1f-4d92-af36-c2d19b0c1ddf",
   "metadata": {},
   "outputs": [],
   "source": [
    "%matplotlib inline\n",
    "cerebro.plot(iplot=False)"
   ]
  },
  {
   "cell_type": "code",
   "execution_count": null,
   "id": "632a5d91-dc51-4870-a60d-e23d04afa836",
   "metadata": {},
   "outputs": [],
   "source": []
  }
 ],
 "metadata": {
  "kernelspec": {
   "display_name": "Python 3 (ipykernel)",
   "language": "python",
   "name": "python3"
  },
  "language_info": {
   "codemirror_mode": {
    "name": "ipython",
    "version": 3
   },
   "file_extension": ".py",
   "mimetype": "text/x-python",
   "name": "python",
   "nbconvert_exporter": "python",
   "pygments_lexer": "ipython3",
   "version": "3.11.4"
  }
 },
 "nbformat": 4,
 "nbformat_minor": 5
}
